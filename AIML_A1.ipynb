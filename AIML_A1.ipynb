{
  "nbformat": 4,
  "nbformat_minor": 0,
  "metadata": {
    "colab": {
      "provenance": [],
      "authorship_tag": "ABX9TyMX4WJ3a94g1mdpIGLfFv/t",
      "include_colab_link": true
    },
    "kernelspec": {
      "name": "python3",
      "display_name": "Python 3"
    },
    "language_info": {
      "name": "python"
    }
  },
  "cells": [
    {
      "cell_type": "markdown",
      "metadata": {
        "id": "view-in-github",
        "colab_type": "text"
      },
      "source": [
        "<a href=\"https://colab.research.google.com/github/2303A51474/2303A51474/blob/main/AIML_A1.ipynb\" target=\"_parent\"><img src=\"https://colab.research.google.com/assets/colab-badge.svg\" alt=\"Open In Colab\"/></a>"
      ]
    },
    {
      "cell_type": "code",
      "execution_count": 1,
      "metadata": {
        "colab": {
          "base_uri": "https://localhost:8080/"
        },
        "id": "LTy6Ytq-IWLw",
        "outputId": "06204078-1020-4ec5-8d3f-a7f5e53cc672"
      },
      "outputs": [
        {
          "output_type": "stream",
          "name": "stdout",
          "text": [
            "(2, 8, 1, 5, 7)\n",
            "<class 'tuple'>\n"
          ]
        }
      ],
      "source": [
        "\n",
        "lst1=(2,8,1,5,7)\n",
        "print(lst1)\n",
        "print(type(lst1))\n",
        ""
      ]
    },
    {
      "cell_type": "code",
      "source": [
        "\n",
        "lst2={3,8,9,2}\n",
        "print(lst2)\n",
        "print(type(lst2))"
      ],
      "metadata": {
        "colab": {
          "base_uri": "https://localhost:8080/"
        },
        "id": "B6YTBD-BIiop",
        "outputId": "7d7389df-6779-4ba9-ff05-a7558b89edc5"
      },
      "execution_count": 2,
      "outputs": [
        {
          "output_type": "stream",
          "name": "stdout",
          "text": [
            "{8, 9, 2, 3}\n",
            "<class 'set'>\n"
          ]
        }
      ]
    },
    {
      "cell_type": "code",
      "source": [
        "\n",
        "lst3=[5,0,2,8]\n",
        "print(lst3)\n",
        "print(type(lst3))"
      ],
      "metadata": {
        "colab": {
          "base_uri": "https://localhost:8080/"
        },
        "id": "AGs1W-iYInsw",
        "outputId": "9a76738f-cd3d-457f-f5ac-5fce849e78c4"
      },
      "execution_count": 3,
      "outputs": [
        {
          "output_type": "stream",
          "name": "stdout",
          "text": [
            "[5, 0, 2, 8]\n",
            "<class 'list'>\n"
          ]
        }
      ]
    },
    {
      "cell_type": "code",
      "source": [
        "\n",
        "lst4={1:\"anjali\",2:\"habeeba\",3:\"blessy\"}\n",
        "print(lst4)\n",
        "print(type(lst4))\n",
        ""
      ],
      "metadata": {
        "colab": {
          "base_uri": "https://localhost:8080/"
        },
        "id": "Agx7EdlMIrCF",
        "outputId": "09c99f0d-18ba-4512-d01f-fdc32e07b3cf"
      },
      "execution_count": 4,
      "outputs": [
        {
          "output_type": "stream",
          "name": "stdout",
          "text": [
            "{1: 'anjali', 2: 'habeeba', 3: 'blessy'}\n",
            "<class 'dict'>\n"
          ]
        }
      ]
    },
    {
      "cell_type": "code",
      "source": [
        "lst5=\"welcome to aiml lab\"\n",
        "print(lst5)\n",
        "print(type(lst5))\n",
        ""
      ],
      "metadata": {
        "colab": {
          "base_uri": "https://localhost:8080/"
        },
        "id": "88QoGepEI3pz",
        "outputId": "7c59cb65-7ad2-4f00-c8ad-0349cbfea86b"
      },
      "execution_count": 5,
      "outputs": [
        {
          "output_type": "stream",
          "name": "stdout",
          "text": [
            "welcome to aiml lab\n",
            "<class 'str'>\n"
          ]
        }
      ]
    },
    {
      "cell_type": "code",
      "source": [
        "\n",
        "lst6=13.4\n",
        "print(lst6)\n",
        "print(type(lst6))"
      ],
      "metadata": {
        "colab": {
          "base_uri": "https://localhost:8080/"
        },
        "id": "PNuFnZjPI6m8",
        "outputId": "ebd60dbd-ea94-45b3-cec8-d8c6aa1b6060"
      },
      "execution_count": 6,
      "outputs": [
        {
          "output_type": "stream",
          "name": "stdout",
          "text": [
            "13.4\n",
            "<class 'float'>\n"
          ]
        }
      ]
    },
    {
      "cell_type": "code",
      "source": [
        "\n",
        "lst7=5j+7\n",
        "print(lst7)\n",
        "print(type(lst7))"
      ],
      "metadata": {
        "colab": {
          "base_uri": "https://localhost:8080/"
        },
        "id": "EexN-lA6I9aE",
        "outputId": "1f8377a5-3b81-4692-aecb-de193f75f106"
      },
      "execution_count": 7,
      "outputs": [
        {
          "output_type": "stream",
          "name": "stdout",
          "text": [
            "(7+5j)\n",
            "<class 'complex'>\n"
          ]
        }
      ]
    },
    {
      "cell_type": "code",
      "source": [
        "import numpy as np\n",
        "arr1=np.array([3,4,5,6])\n",
        "print(arr1)\n",
        "print(type(arr1))"
      ],
      "metadata": {
        "colab": {
          "base_uri": "https://localhost:8080/"
        },
        "id": "ULgBQ2hPJCni",
        "outputId": "bda60f51-38b6-4ced-9e4c-e85712b4699e"
      },
      "execution_count": 8,
      "outputs": [
        {
          "output_type": "stream",
          "name": "stdout",
          "text": [
            "[3 4 5 6]\n",
            "<class 'numpy.ndarray'>\n"
          ]
        }
      ]
    },
    {
      "cell_type": "code",
      "source": [
        "arr2=np.zeros((5,7))\n",
        "print(arr2)\n",
        "print(type(arr2))\n",
        ""
      ],
      "metadata": {
        "colab": {
          "base_uri": "https://localhost:8080/"
        },
        "id": "LTiomZE8JGzg",
        "outputId": "4b077980-84b5-407c-96fa-d94436f49e92"
      },
      "execution_count": 9,
      "outputs": [
        {
          "output_type": "stream",
          "name": "stdout",
          "text": [
            "[[0. 0. 0. 0. 0. 0. 0.]\n",
            " [0. 0. 0. 0. 0. 0. 0.]\n",
            " [0. 0. 0. 0. 0. 0. 0.]\n",
            " [0. 0. 0. 0. 0. 0. 0.]\n",
            " [0. 0. 0. 0. 0. 0. 0.]]\n",
            "<class 'numpy.ndarray'>\n"
          ]
        }
      ]
    },
    {
      "cell_type": "code",
      "source": [
        "arr3=np.array([[1,2,3],[5,6,7],[3,6,7]])\n",
        "print(arr3)\n",
        "print(type(arr3))"
      ],
      "metadata": {
        "colab": {
          "base_uri": "https://localhost:8080/"
        },
        "id": "gWq6Y5QlJM3f",
        "outputId": "6366537a-d931-47f5-a4b1-0470153c0f72"
      },
      "execution_count": 10,
      "outputs": [
        {
          "output_type": "stream",
          "name": "stdout",
          "text": [
            "[[1 2 3]\n",
            " [5 6 7]\n",
            " [3 6 7]]\n",
            "<class 'numpy.ndarray'>\n"
          ]
        }
      ]
    },
    {
      "cell_type": "code",
      "source": [
        "arr4=np.array([[1,2],[3,4]])\n",
        "print(arr4)\n",
        "print(type(arr4))"
      ],
      "metadata": {
        "colab": {
          "base_uri": "https://localhost:8080/"
        },
        "id": "RuNci52aJPL9",
        "outputId": "789a08b0-ff1f-4462-e9d8-663ee7eae1be"
      },
      "execution_count": 11,
      "outputs": [
        {
          "output_type": "stream",
          "name": "stdout",
          "text": [
            "[[1 2]\n",
            " [3 4]]\n",
            "<class 'numpy.ndarray'>\n"
          ]
        }
      ]
    },
    {
      "cell_type": "code",
      "source": [
        "dtype=[('name','S10'),('age','i4')]\n",
        "values=[('BLESSY',20),('BLESSY',26)]\n",
        "arr5=np.array(values,dtype=dtype)\n",
        "print(arr5)\n",
        "print(type(arr5))"
      ],
      "metadata": {
        "colab": {
          "base_uri": "https://localhost:8080/"
        },
        "id": "_BYjxORRJUWu",
        "outputId": "5ff1fd1e-a73f-4a1c-b975-9da282a2b746"
      },
      "execution_count": 12,
      "outputs": [
        {
          "output_type": "stream",
          "name": "stdout",
          "text": [
            "[(b'BLESSY', 20) (b'BLESSY', 26)]\n",
            "<class 'numpy.ndarray'>\n"
          ]
        }
      ]
    },
    {
      "cell_type": "code",
      "source": [
        "arr6=np.matrix([[1,2],[3,4]])\n",
        "print(arr6)\n",
        "print(type(arr6))"
      ],
      "metadata": {
        "colab": {
          "base_uri": "https://localhost:8080/"
        },
        "id": "7SBbrfXVJXKC",
        "outputId": "4c6adec6-3010-4425-efec-af86b8ee93cf"
      },
      "execution_count": 13,
      "outputs": [
        {
          "output_type": "stream",
          "name": "stdout",
          "text": [
            "[[1 2]\n",
            " [3 4]]\n",
            "<class 'numpy.matrix'>\n"
          ]
        }
      ]
    },
    {
      "cell_type": "code",
      "source": [
        "\n",
        "import numpy as np\n",
        "array1=np.array([1,2,3,4])\n",
        "array2=np.array([5,7,8,9])\n",
        "result=array1*array2\n",
        "print(\"Multiplication Result:\",result)\n",
        ""
      ],
      "metadata": {
        "colab": {
          "base_uri": "https://localhost:8080/"
        },
        "id": "De8VBhkUJaC6",
        "outputId": "73ac3bcd-b737-46e6-ec29-6f48c9c9fdc9"
      },
      "execution_count": 14,
      "outputs": [
        {
          "output_type": "stream",
          "name": "stdout",
          "text": [
            "Multiplication Result: [ 5 14 24 36]\n"
          ]
        }
      ]
    },
    {
      "cell_type": "code",
      "source": [
        "\n",
        "import numpy as np\n",
        "array1=np.array([1,2,7,8])\n",
        "array2=np.array([4,5,6,7])\n",
        "res=array1/array2\n",
        "print(\"Division Result:\",res)\n",
        ""
      ],
      "metadata": {
        "colab": {
          "base_uri": "https://localhost:8080/"
        },
        "id": "aR5Y_QtgJdEX",
        "outputId": "9fb0989f-9b99-4b8c-a9e7-75484e983ea9"
      },
      "execution_count": 15,
      "outputs": [
        {
          "output_type": "stream",
          "name": "stdout",
          "text": [
            "Division Result: [0.25       0.4        1.16666667 1.14285714]\n"
          ]
        }
      ]
    },
    {
      "cell_type": "code",
      "source": [
        "\n",
        "import numpy as np\n",
        "arr1=np.array([1,2,14,5])\n",
        "arr2=np.array([2,3,4,7])\n",
        "res=arr1^arr2\n",
        "print(\"Power Result:\",res)"
      ],
      "metadata": {
        "colab": {
          "base_uri": "https://localhost:8080/"
        },
        "id": "n4vFTOR8Jf-U",
        "outputId": "93c520c2-2dbd-4e49-c533-64d64dc15837"
      },
      "execution_count": 16,
      "outputs": [
        {
          "output_type": "stream",
          "name": "stdout",
          "text": [
            "Power Result: [ 3  1 10  2]\n"
          ]
        }
      ]
    },
    {
      "cell_type": "code",
      "source": [
        "\n",
        "arr=f\"Addition of two :{array1}+{array2}={array1+array2}\"\n",
        "print(\"\\n\"+arr)\n",
        ""
      ],
      "metadata": {
        "colab": {
          "base_uri": "https://localhost:8080/"
        },
        "id": "LdNaTVqvJi94",
        "outputId": "f6d64633-0f8d-4e07-98db-d76cc822c013"
      },
      "execution_count": 17,
      "outputs": [
        {
          "output_type": "stream",
          "name": "stdout",
          "text": [
            "\n",
            "Addition of two :[1 2 7 8]+[4 5 6 7]=[ 5  7 13 15]\n"
          ]
        }
      ]
    },
    {
      "cell_type": "code",
      "source": [
        "angles=np.array([0,np.pi/2,np.pi,3*np.pi/2,2*np.pi])\n",
        "values_log=np.array([1,np.e,np.e**2,np.e**3])\n",
        "values_log2=np.array([1,2,5,8,7])\n",
        "values_exp=np.array([0,5,7,14])\n",
        "sine_values=np.sin(angles)\n",
        "print(\"Sine Values:\",sine_values)\n",
        "\n",
        "log_values=np.log(values_log)\n",
        "print(\"Natural ogarithm values:\",log_values)\n",
        "\n",
        "log2_values=np.log2(values_log2)\n",
        "print(\"Base-2 logarithm values:\",log2_values)\n",
        "\n",
        "exp_values=np.exp(values_exp)\n",
        "print(\"Exponential values:\",exp_values)"
      ],
      "metadata": {
        "colab": {
          "base_uri": "https://localhost:8080/"
        },
        "id": "jxyXEi2WJmGj",
        "outputId": "354fdb7c-8cc9-4967-994f-b96601f9f364"
      },
      "execution_count": 18,
      "outputs": [
        {
          "output_type": "stream",
          "name": "stdout",
          "text": [
            "Sine Values: [ 0.0000000e+00  1.0000000e+00  1.2246468e-16 -1.0000000e+00\n",
            " -2.4492936e-16]\n",
            "Natural ogarithm values: [0. 1. 2. 3.]\n",
            "Base-2 logarithm values: [0.         1.         2.32192809 3.         2.80735492]\n",
            "Exponential values: [1.00000000e+00 1.48413159e+02 1.09663316e+03 1.20260428e+06]\n"
          ]
        }
      ]
    },
    {
      "cell_type": "code",
      "source": [
        "import pandas as pd\n",
        "series=pd.Series([1,2,3,4,5])\n",
        "print(\"Pandas Series:\",series)"
      ],
      "metadata": {
        "colab": {
          "base_uri": "https://localhost:8080/"
        },
        "id": "HffkN-TuJoCj",
        "outputId": "e3b6e67a-578e-44ee-931c-d433b7758c59"
      },
      "execution_count": 19,
      "outputs": [
        {
          "output_type": "stream",
          "name": "stdout",
          "text": [
            "Pandas Series: 0    1\n",
            "1    2\n",
            "2    3\n",
            "3    4\n",
            "4    5\n",
            "dtype: int64\n"
          ]
        }
      ]
    },
    {
      "cell_type": "code",
      "source": [
        "df=pd.DataFrame({'Colum1':[1,2,4,5,7],'Colum2':[5,6,7,3,1]})\n",
        "print(\"Pandas DataFrame:\\n\",df)\n",
        ""
      ],
      "metadata": {
        "colab": {
          "base_uri": "https://localhost:8080/"
        },
        "id": "G5na3QnLJt-0",
        "outputId": "aba130ec-6d27-425b-8f55-4d8a59b7e212"
      },
      "execution_count": 20,
      "outputs": [
        {
          "output_type": "stream",
          "name": "stdout",
          "text": [
            "Pandas DataFrame:\n",
            "    Colum1  Colum2\n",
            "0       1       5\n",
            "1       2       6\n",
            "2       4       7\n",
            "3       5       3\n",
            "4       7       1\n"
          ]
        }
      ]
    },
    {
      "cell_type": "code",
      "source": [
        "\n",
        "\n",
        "data_series=[20,30,50,70]\n",
        "index_series=['s','a','v','g']\n",
        "series=pd.Series(data_series,index=index_series)\n",
        "print(\"Pandas Series:\\n\",series)"
      ],
      "metadata": {
        "colab": {
          "base_uri": "https://localhost:8080/"
        },
        "id": "69DxA2KYJyiz",
        "outputId": "1a3079f5-6ab1-4554-cd35-c8c629e19421"
      },
      "execution_count": 21,
      "outputs": [
        {
          "output_type": "stream",
          "name": "stdout",
          "text": [
            "Pandas Series:\n",
            " s    20\n",
            "a    30\n",
            "v    50\n",
            "g    70\n",
            "dtype: int64\n"
          ]
        }
      ]
    },
    {
      "cell_type": "code",
      "source": [
        "data_df={'Name':['habeeba','anjali','benny'],'Age':[18,19,25],'City':['warangal','hnk','uk']}\n",
        "df=pd.DataFrame(data_df)\n",
        "print(\"Pandas DataFrame:\\n\",df)"
      ],
      "metadata": {
        "colab": {
          "base_uri": "https://localhost:8080/"
        },
        "id": "xuWYZYcMJz0b",
        "outputId": "736eabce-d843-487f-dd09-03b42ad0c7d9"
      },
      "execution_count": 22,
      "outputs": [
        {
          "output_type": "stream",
          "name": "stdout",
          "text": [
            "Pandas DataFrame:\n",
            "       Name  Age      City\n",
            "0  habeeba   18  warangal\n",
            "1   anjali   19       hnk\n",
            "2    benny   25        uk\n"
          ]
        }
      ]
    },
    {
      "cell_type": "code",
      "source": [
        "import pandas as pd\n",
        "data={\n",
        "'People':['benny','habeeba','blessy','anjali'],\n",
        "'Age':[25,18,19,22],\n",
        "'Height':[155,145,145,160],\n",
        "'Weight':[80,75,55,67]\n",
        "}\n",
        "df=pd.DataFrame(data)\n",
        "print(df)"
      ],
      "metadata": {
        "colab": {
          "base_uri": "https://localhost:8080/"
        },
        "id": "U0m-LP0_J5Vh",
        "outputId": "b4f34fc6-0171-40b7-f617-60de4986e5ac"
      },
      "execution_count": 23,
      "outputs": [
        {
          "output_type": "stream",
          "name": "stdout",
          "text": [
            "    People  Age  Height  Weight\n",
            "0    benny   25     155      80\n",
            "1  habeeba   18     145      75\n",
            "2   blessy   19     145      55\n",
            "3   anjali   22     160      67\n"
          ]
        }
      ]
    },
    {
      "cell_type": "code",
      "source": [
        "import matplotlib.pyplot as plt\n",
        "plt.figure(figsize=(10,6))\n",
        "plt.scatter(df['Age'],df['Height'],color='blue',s=159,alpha=0.5,edgecolors='b')\n",
        "plt.title('SCATTER PLOT OF AGE VS HEIGHT')\n",
        "plt.xlabel('Height')\n",
        "plt.ylabel('Age')\n",
        "plt.grid(True)\n",
        "plt.show()\n",
        ""
      ],
      "metadata": {
        "colab": {
          "base_uri": "https://localhost:8080/",
          "height": 531
        },
        "id": "Dd9vpZdLKNe_",
        "outputId": "900731ef-f460-4579-a8d8-f2f6cd5ef3e6"
      },
      "execution_count": 24,
      "outputs": [
        {
          "output_type": "display_data",
          "data": {
            "text/plain": [
              "<Figure size 1000x600 with 1 Axes>"
            ],
            "image/png": "[encoded data removed]"
          },
          "metadata": {}
        }
      ]
    },
    {
      "cell_type": "code",
      "source": [
        "plt.figure(figsize=(10,6))\n",
        "plt.bar(df['People'],df['Weight'],color='blue',alpha=0.7)\n",
        "plt.title('BAR GRAPH OF WEIGHT BY PERSON')\n",
        "plt.xlabel('People')\n",
        "plt.ylabel('Weight')\n",
        "plt.show()"
      ],
      "metadata": {
        "colab": {
          "base_uri": "https://localhost:8080/",
          "height": 536
        },
        "id": "YVqWYqXhKR3O",
        "outputId": "6a8a9719-03f4-4135-9f02-8e55ad32f0c7"
      },
      "execution_count": 25,
      "outputs": [
        {
          "output_type": "display_data",
          "data": {
            "text/plain": [
              "<Figure size 1000x600 with 1 Axes>"
            ],
            "image/png": "[encoded data removed]"
          },
          "metadata": {}
        }
      ]
    },
    {
      "cell_type": "code",
      "source": [
        "\n",
        "plt.figure(figsize=(10,5))\n",
        "plt.hist(df['Age'],bins=5,color='blue',alpha=0.7,edgecolor='pink')\n",
        "plt.title('HISTOGRAM OF AGES')\n",
        "plt.xlabel('Age')\n",
        "plt.ylabel('Frequency')\n",
        "plt.show()"
      ],
      "metadata": {
        "colab": {
          "base_uri": "https://localhost:8080/",
          "height": 456
        },
        "id": "MgTPovZdKh1t",
        "outputId": "fccf84ae-ffa6-4023-ee65-fa94eafd1e25"
      },
      "execution_count": 26,
      "outputs": [
        {
          "output_type": "display_data",
          "data": {
            "text/plain": [
              "<Figure size 1000x500 with 1 Axes>"
            ],
            "image/png": "[encoded data removed]"
          },
          "metadata": {}
        }
      ]
    }
  ]
}